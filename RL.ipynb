{
 "cells": [
  {
   "cell_type": "markdown",
   "metadata": {},
   "source": [
    "# RL Recommender System"
   ]
  },
  {
   "cell_type": "markdown",
   "metadata": {},
   "source": [
    "### Concise version for presentation"
   ]
  },
  {
   "cell_type": "code",
   "execution_count": 1,
   "metadata": {},
   "outputs": [
    {
     "name": "stderr",
     "output_type": "stream",
     "text": [
      "D:\\Anaconda\\lib\\site-packages\\statsmodels\\tools\\_testing.py:19: FutureWarning: pandas.util.testing is deprecated. Use the functions in the public API at pandas.testing instead.\n",
      "  import pandas.util.testing as tm\n"
     ]
    }
   ],
   "source": [
    "import numpy as np\n",
    "import pandas as pd\n",
    "import random\n",
    "from collections import defaultdict\n",
    "from typing import Dict, Tuple, List\n",
    "from sklearn.metrics.pairwise import cosine_similarity\n",
    "from sklearn.metrics import precision_score, f1_score, accuracy_score\n",
    "from sklearn.feature_extraction.text import TfidfVectorizer\n",
    "from sklearn.preprocessing import MinMaxScaler\n",
    "import matplotlib.pyplot as plt\n",
    "import seaborn as sns\n",
    "from statsmodels.stats.outliers_influence import variance_inflation_factor\n",
    "\n",
    "# Collaborative filtering\n",
    "from sklearn.model_selection import train_test_split\n",
    "from scipy.sparse import csr_matrix\n",
    "from implicit.als import AlternatingLeastSquares\n",
    "from implicit.evaluation import precision_at_k, train_test_split as implicit_train_test_split\n",
    "import random\n",
    "\n",
    "import time\n",
    "start=time.time()"
   ]
  },
  {
   "cell_type": "code",
   "execution_count": 2,
   "metadata": {},
   "outputs": [],
   "source": [
    "# IMPROVED PARAMETERS\n",
    "alpha = 0.15  # Learning rate (increased for faster convergence)\n",
    "gamma = 0.92  # Discount factor (slightly increased)\n",
    "epsilon_start = 0.5  # Starting exploration rate\n",
    "epsilon_end = 0.01  # Final exploration rate\n",
    "epsilon_decay = 0.995  # Decay rate per episode\n",
    "num_episodes = 7500 #1200  # Increased number of episodes\n",
    "window_size = 4  # Increased window size for better context\n",
    "min_listen_duration = 0.7  # Made less strict for positive reward\n",
    "max_skip_duration = 0.2  # Made more tolerant for avoiding negative reward, but 0.3 -> 0.2"
   ]
  },
  {
   "cell_type": "markdown",
   "metadata": {},
   "source": [
    "## Data Exploration"
   ]
  },
  {
   "cell_type": "code",
   "execution_count": 3,
   "metadata": {},
   "outputs": [
    {
     "data": {
      "text/plain": [
       "{0: {'track_id': '2r0ROhr7pRN4MXDMT1fEmd',\n",
       "  'track_name': 'Leo Das Entry (From \"Leo\")',\n",
       "  'artist_name': 'Anirudh Ravichander',\n",
       "  'year': 2024,\n",
       "  'popularity': 59,\n",
       "  'artwork_url': 'https://i.scdn.co/image/ab67616d0000b273ce9c65e63d5469894b95b4ba',\n",
       "  'album_name': 'Leo Das Entry (From \"Leo\")',\n",
       "  'acousticness': 0.0241,\n",
       "  'danceability': 0.753,\n",
       "  'duration_ms': 97297.0,\n",
       "  'energy': 0.97,\n",
       "  'instrumentalness': 0.0553,\n",
       "  'key': 8.0,\n",
       "  'liveness': 0.1,\n",
       "  'loudness': -5.994,\n",
       "  'mode': 0.0,\n",
       "  'speechiness': 0.103,\n",
       "  'tempo': 110.997,\n",
       "  'time_signature': 4.0,\n",
       "  'valence': 0.459,\n",
       "  'track_url': 'https://open.spotify.com/track/2r0ROhr7pRN4MXDMT1fEmd',\n",
       "  'language': 'Tamil'}}"
      ]
     },
     "execution_count": 3,
     "metadata": {},
     "output_type": "execute_result"
    }
   ],
   "source": [
    "# Load songs from spotify_tracks.csv (same as before)\n",
    "spotify_df = pd.read_csv(\"spotify_tracks.csv\")\n",
    "spotify_df.head(n=1).to_dict('index')"
   ]
  },
  {
   "cell_type": "code",
   "execution_count": 4,
   "metadata": {},
   "outputs": [
    {
     "name": "stdout",
     "output_type": "stream",
     "text": [
      "<class 'pandas.core.frame.DataFrame'>\n",
      "RangeIndex: 62317 entries, 0 to 62316\n",
      "Data columns (total 22 columns):\n",
      " #   Column            Non-Null Count  Dtype  \n",
      "---  ------            --------------  -----  \n",
      " 0   track_id          62317 non-null  object \n",
      " 1   track_name        62317 non-null  object \n",
      " 2   artist_name       62317 non-null  object \n",
      " 3   year              62317 non-null  int64  \n",
      " 4   popularity        62317 non-null  int64  \n",
      " 5   artwork_url       62317 non-null  object \n",
      " 6   album_name        62317 non-null  object \n",
      " 7   acousticness      62317 non-null  float64\n",
      " 8   danceability      62317 non-null  float64\n",
      " 9   duration_ms       62317 non-null  float64\n",
      " 10  energy            62317 non-null  float64\n",
      " 11  instrumentalness  62317 non-null  float64\n",
      " 12  key               62317 non-null  float64\n",
      " 13  liveness          62317 non-null  float64\n",
      " 14  loudness          62317 non-null  float64\n",
      " 15  mode              62317 non-null  float64\n",
      " 16  speechiness       62317 non-null  float64\n",
      " 17  tempo             62317 non-null  float64\n",
      " 18  time_signature    62317 non-null  float64\n",
      " 19  valence           62317 non-null  float64\n",
      " 20  track_url         62317 non-null  object \n",
      " 21  language          62317 non-null  object \n",
      "dtypes: float64(13), int64(2), object(7)\n",
      "memory usage: 10.5+ MB\n"
     ]
    }
   ],
   "source": [
    "spotify_df.info()"
   ]
  },
  {
   "cell_type": "code",
   "execution_count": 5,
   "metadata": {},
   "outputs": [
    {
     "data": {
      "text/html": [
       "<div>\n",
       "<style scoped>\n",
       "    .dataframe tbody tr th:only-of-type {\n",
       "        vertical-align: middle;\n",
       "    }\n",
       "\n",
       "    .dataframe tbody tr th {\n",
       "        vertical-align: top;\n",
       "    }\n",
       "\n",
       "    .dataframe thead th {\n",
       "        text-align: right;\n",
       "    }\n",
       "</style>\n",
       "<table border=\"1\" class=\"dataframe\">\n",
       "  <thead>\n",
       "    <tr style=\"text-align: right;\">\n",
       "      <th></th>\n",
       "      <th>year</th>\n",
       "      <th>popularity</th>\n",
       "      <th>acousticness</th>\n",
       "      <th>danceability</th>\n",
       "      <th>duration_ms</th>\n",
       "      <th>energy</th>\n",
       "      <th>instrumentalness</th>\n",
       "      <th>key</th>\n",
       "      <th>liveness</th>\n",
       "      <th>loudness</th>\n",
       "      <th>mode</th>\n",
       "      <th>speechiness</th>\n",
       "      <th>tempo</th>\n",
       "      <th>time_signature</th>\n",
       "      <th>valence</th>\n",
       "    </tr>\n",
       "  </thead>\n",
       "  <tbody>\n",
       "    <tr>\n",
       "      <th>count</th>\n",
       "      <td>62317.000000</td>\n",
       "      <td>62317.000000</td>\n",
       "      <td>62317.000000</td>\n",
       "      <td>62317.000000</td>\n",
       "      <td>6.231700e+04</td>\n",
       "      <td>62317.000000</td>\n",
       "      <td>62317.000000</td>\n",
       "      <td>62317.000000</td>\n",
       "      <td>62317.000000</td>\n",
       "      <td>62317.000000</td>\n",
       "      <td>62317.000000</td>\n",
       "      <td>62317.000000</td>\n",
       "      <td>62317.000000</td>\n",
       "      <td>62317.000000</td>\n",
       "      <td>62317.000000</td>\n",
       "    </tr>\n",
       "    <tr>\n",
       "      <th>mean</th>\n",
       "      <td>2014.425935</td>\n",
       "      <td>15.358361</td>\n",
       "      <td>0.362292</td>\n",
       "      <td>0.596807</td>\n",
       "      <td>2.425270e+05</td>\n",
       "      <td>0.602496</td>\n",
       "      <td>0.146215</td>\n",
       "      <td>5.101658</td>\n",
       "      <td>0.194143</td>\n",
       "      <td>-65.103433</td>\n",
       "      <td>0.586052</td>\n",
       "      <td>0.087722</td>\n",
       "      <td>117.931247</td>\n",
       "      <td>3.857086</td>\n",
       "      <td>0.495226</td>\n",
       "    </tr>\n",
       "    <tr>\n",
       "      <th>std</th>\n",
       "      <td>9.645113</td>\n",
       "      <td>18.626908</td>\n",
       "      <td>0.314609</td>\n",
       "      <td>0.186209</td>\n",
       "      <td>1.129999e+05</td>\n",
       "      <td>0.246144</td>\n",
       "      <td>0.307804</td>\n",
       "      <td>3.553469</td>\n",
       "      <td>0.172030</td>\n",
       "      <td>2369.051478</td>\n",
       "      <td>0.493682</td>\n",
       "      <td>0.115150</td>\n",
       "      <td>28.509459</td>\n",
       "      <td>0.502660</td>\n",
       "      <td>0.264787</td>\n",
       "    </tr>\n",
       "    <tr>\n",
       "      <th>min</th>\n",
       "      <td>1971.000000</td>\n",
       "      <td>0.000000</td>\n",
       "      <td>-1.000000</td>\n",
       "      <td>-1.000000</td>\n",
       "      <td>5.000000e+03</td>\n",
       "      <td>-1.000000</td>\n",
       "      <td>-1.000000</td>\n",
       "      <td>-1.000000</td>\n",
       "      <td>-1.000000</td>\n",
       "      <td>-100000.000000</td>\n",
       "      <td>-1.000000</td>\n",
       "      <td>-1.000000</td>\n",
       "      <td>-1.000000</td>\n",
       "      <td>-1.000000</td>\n",
       "      <td>-1.000000</td>\n",
       "    </tr>\n",
       "    <tr>\n",
       "      <th>25%</th>\n",
       "      <td>2011.000000</td>\n",
       "      <td>0.000000</td>\n",
       "      <td>0.067100</td>\n",
       "      <td>0.497000</td>\n",
       "      <td>1.921600e+05</td>\n",
       "      <td>0.440000</td>\n",
       "      <td>0.000000</td>\n",
       "      <td>2.000000</td>\n",
       "      <td>0.093200</td>\n",
       "      <td>-10.727000</td>\n",
       "      <td>0.000000</td>\n",
       "      <td>0.036700</td>\n",
       "      <td>95.942000</td>\n",
       "      <td>4.000000</td>\n",
       "      <td>0.292000</td>\n",
       "    </tr>\n",
       "    <tr>\n",
       "      <th>50%</th>\n",
       "      <td>2017.000000</td>\n",
       "      <td>7.000000</td>\n",
       "      <td>0.286000</td>\n",
       "      <td>0.631000</td>\n",
       "      <td>2.362670e+05</td>\n",
       "      <td>0.639000</td>\n",
       "      <td>0.000025</td>\n",
       "      <td>5.000000</td>\n",
       "      <td>0.125000</td>\n",
       "      <td>-7.506000</td>\n",
       "      <td>1.000000</td>\n",
       "      <td>0.048900</td>\n",
       "      <td>117.991000</td>\n",
       "      <td>4.000000</td>\n",
       "      <td>0.507000</td>\n",
       "    </tr>\n",
       "    <tr>\n",
       "      <th>75%</th>\n",
       "      <td>2022.000000</td>\n",
       "      <td>26.000000</td>\n",
       "      <td>0.632000</td>\n",
       "      <td>0.730000</td>\n",
       "      <td>2.862400e+05</td>\n",
       "      <td>0.803000</td>\n",
       "      <td>0.015200</td>\n",
       "      <td>8.000000</td>\n",
       "      <td>0.243000</td>\n",
       "      <td>-5.456000</td>\n",
       "      <td>1.000000</td>\n",
       "      <td>0.089100</td>\n",
       "      <td>135.081000</td>\n",
       "      <td>4.000000</td>\n",
       "      <td>0.710000</td>\n",
       "    </tr>\n",
       "    <tr>\n",
       "      <th>max</th>\n",
       "      <td>2024.000000</td>\n",
       "      <td>93.000000</td>\n",
       "      <td>0.996000</td>\n",
       "      <td>0.986000</td>\n",
       "      <td>4.581483e+06</td>\n",
       "      <td>1.000000</td>\n",
       "      <td>0.999000</td>\n",
       "      <td>11.000000</td>\n",
       "      <td>0.998000</td>\n",
       "      <td>1.233000</td>\n",
       "      <td>1.000000</td>\n",
       "      <td>0.959000</td>\n",
       "      <td>239.970000</td>\n",
       "      <td>5.000000</td>\n",
       "      <td>0.995000</td>\n",
       "    </tr>\n",
       "  </tbody>\n",
       "</table>\n",
       "</div>"
      ],
      "text/plain": [
       "               year    popularity  acousticness  danceability   duration_ms  \\\n",
       "count  62317.000000  62317.000000  62317.000000  62317.000000  6.231700e+04   \n",
       "mean    2014.425935     15.358361      0.362292      0.596807  2.425270e+05   \n",
       "std        9.645113     18.626908      0.314609      0.186209  1.129999e+05   \n",
       "min     1971.000000      0.000000     -1.000000     -1.000000  5.000000e+03   \n",
       "25%     2011.000000      0.000000      0.067100      0.497000  1.921600e+05   \n",
       "50%     2017.000000      7.000000      0.286000      0.631000  2.362670e+05   \n",
       "75%     2022.000000     26.000000      0.632000      0.730000  2.862400e+05   \n",
       "max     2024.000000     93.000000      0.996000      0.986000  4.581483e+06   \n",
       "\n",
       "             energy  instrumentalness           key      liveness  \\\n",
       "count  62317.000000      62317.000000  62317.000000  62317.000000   \n",
       "mean       0.602496          0.146215      5.101658      0.194143   \n",
       "std        0.246144          0.307804      3.553469      0.172030   \n",
       "min       -1.000000         -1.000000     -1.000000     -1.000000   \n",
       "25%        0.440000          0.000000      2.000000      0.093200   \n",
       "50%        0.639000          0.000025      5.000000      0.125000   \n",
       "75%        0.803000          0.015200      8.000000      0.243000   \n",
       "max        1.000000          0.999000     11.000000      0.998000   \n",
       "\n",
       "            loudness          mode   speechiness         tempo  \\\n",
       "count   62317.000000  62317.000000  62317.000000  62317.000000   \n",
       "mean      -65.103433      0.586052      0.087722    117.931247   \n",
       "std      2369.051478      0.493682      0.115150     28.509459   \n",
       "min   -100000.000000     -1.000000     -1.000000     -1.000000   \n",
       "25%       -10.727000      0.000000      0.036700     95.942000   \n",
       "50%        -7.506000      1.000000      0.048900    117.991000   \n",
       "75%        -5.456000      1.000000      0.089100    135.081000   \n",
       "max         1.233000      1.000000      0.959000    239.970000   \n",
       "\n",
       "       time_signature       valence  \n",
       "count    62317.000000  62317.000000  \n",
       "mean         3.857086      0.495226  \n",
       "std          0.502660      0.264787  \n",
       "min         -1.000000     -1.000000  \n",
       "25%          4.000000      0.292000  \n",
       "50%          4.000000      0.507000  \n",
       "75%          4.000000      0.710000  \n",
       "max          5.000000      0.995000  "
      ]
     },
     "execution_count": 5,
     "metadata": {},
     "output_type": "execute_result"
    }
   ],
   "source": [
    "spotify_desc = spotify_df.describe()\n",
    "spotify_desc"
   ]
  },
  {
   "cell_type": "code",
   "execution_count": 6,
   "metadata": {},
   "outputs": [
    {
     "data": {
      "image/png": "[encoded data removed]",
      "text/plain": [
       "<Figure size 432x288 with 1 Axes>"
      ]
     },
     "metadata": {
      "needs_background": "light"
     },
     "output_type": "display_data"
    }
   ],
   "source": [
    "spotify_df['liveness'].describe()\n",
    "sns.distplot(spotify_df['liveness'], color='g', bins=100, hist_kws={'alpha': 0.4});"
   ]
  },
  {
   "cell_type": "code",
   "execution_count": 7,
   "metadata": {},
   "outputs": [
    {
     "name": "stdout",
     "output_type": "stream",
     "text": [
      "==================== Numerical Data Features ====================\n"
     ]
    },
    {
     "data": {
      "text/html": [
       "<div>\n",
       "<style scoped>\n",
       "    .dataframe tbody tr th:only-of-type {\n",
       "        vertical-align: middle;\n",
       "    }\n",
       "\n",
       "    .dataframe tbody tr th {\n",
       "        vertical-align: top;\n",
       "    }\n",
       "\n",
       "    .dataframe thead th {\n",
       "        text-align: right;\n",
       "    }\n",
       "</style>\n",
       "<table border=\"1\" class=\"dataframe\">\n",
       "  <thead>\n",
       "    <tr style=\"text-align: right;\">\n",
       "      <th></th>\n",
       "      <th>year</th>\n",
       "      <th>popularity</th>\n",
       "      <th>acousticness</th>\n",
       "      <th>danceability</th>\n",
       "      <th>duration_ms</th>\n",
       "      <th>energy</th>\n",
       "      <th>instrumentalness</th>\n",
       "      <th>key</th>\n",
       "      <th>liveness</th>\n",
       "      <th>loudness</th>\n",
       "      <th>mode</th>\n",
       "      <th>speechiness</th>\n",
       "      <th>tempo</th>\n",
       "      <th>time_signature</th>\n",
       "      <th>valence</th>\n",
       "    </tr>\n",
       "  </thead>\n",
       "  <tbody>\n",
       "    <tr>\n",
       "      <th>0</th>\n",
       "      <td>2024</td>\n",
       "      <td>59</td>\n",
       "      <td>0.0241</td>\n",
       "      <td>0.753</td>\n",
       "      <td>97297.0</td>\n",
       "      <td>0.970</td>\n",
       "      <td>0.0553</td>\n",
       "      <td>8.0</td>\n",
       "      <td>0.1000</td>\n",
       "      <td>-5.994</td>\n",
       "      <td>0.0</td>\n",
       "      <td>0.1030</td>\n",
       "      <td>110.997</td>\n",
       "      <td>4.0</td>\n",
       "      <td>0.459</td>\n",
       "    </tr>\n",
       "    <tr>\n",
       "      <th>1</th>\n",
       "      <td>2024</td>\n",
       "      <td>47</td>\n",
       "      <td>0.0851</td>\n",
       "      <td>0.780</td>\n",
       "      <td>207369.0</td>\n",
       "      <td>0.793</td>\n",
       "      <td>0.0000</td>\n",
       "      <td>10.0</td>\n",
       "      <td>0.0951</td>\n",
       "      <td>-5.674</td>\n",
       "      <td>0.0</td>\n",
       "      <td>0.0952</td>\n",
       "      <td>164.995</td>\n",
       "      <td>3.0</td>\n",
       "      <td>0.821</td>\n",
       "    </tr>\n",
       "  </tbody>\n",
       "</table>\n",
       "</div>"
      ],
      "text/plain": [
       "   year  popularity  acousticness  danceability  duration_ms  energy  \\\n",
       "0  2024          59        0.0241         0.753      97297.0   0.970   \n",
       "1  2024          47        0.0851         0.780     207369.0   0.793   \n",
       "\n",
       "   instrumentalness   key  liveness  loudness  mode  speechiness    tempo  \\\n",
       "0            0.0553   8.0    0.1000    -5.994   0.0       0.1030  110.997   \n",
       "1            0.0000  10.0    0.0951    -5.674   0.0       0.0952  164.995   \n",
       "\n",
       "   time_signature  valence  \n",
       "0             4.0    0.459  \n",
       "1             3.0    0.821  "
      ]
     },
     "metadata": {},
     "output_type": "display_data"
    },
    {
     "name": "stdout",
     "output_type": "stream",
     "text": [
      "\n",
      "==================== Non-numerical Data Features ====================\n"
     ]
    },
    {
     "data": {
      "text/html": [
       "<div>\n",
       "<style scoped>\n",
       "    .dataframe tbody tr th:only-of-type {\n",
       "        vertical-align: middle;\n",
       "    }\n",
       "\n",
       "    .dataframe tbody tr th {\n",
       "        vertical-align: top;\n",
       "    }\n",
       "\n",
       "    .dataframe thead th {\n",
       "        text-align: right;\n",
       "    }\n",
       "</style>\n",
       "<table border=\"1\" class=\"dataframe\">\n",
       "  <thead>\n",
       "    <tr style=\"text-align: right;\">\n",
       "      <th></th>\n",
       "      <th>track_id</th>\n",
       "      <th>track_name</th>\n",
       "      <th>artist_name</th>\n",
       "      <th>artwork_url</th>\n",
       "      <th>album_name</th>\n",
       "      <th>track_url</th>\n",
       "      <th>language</th>\n",
       "    </tr>\n",
       "  </thead>\n",
       "  <tbody>\n",
       "    <tr>\n",
       "      <th>0</th>\n",
       "      <td>2r0ROhr7pRN4MXDMT1fEmd</td>\n",
       "      <td>Leo Das Entry (From \"Leo\")</td>\n",
       "      <td>Anirudh Ravichander</td>\n",
       "      <td>https://i.scdn.co/image/ab67616d0000b273ce9c65...</td>\n",
       "      <td>Leo Das Entry (From \"Leo\")</td>\n",
       "      <td>https://open.spotify.com/track/2r0ROhr7pRN4MXD...</td>\n",
       "      <td>Tamil</td>\n",
       "    </tr>\n",
       "    <tr>\n",
       "      <th>1</th>\n",
       "      <td>4I38e6Dg52a2o2a8i5Q5PW</td>\n",
       "      <td>AAO KILLELLE</td>\n",
       "      <td>Anirudh Ravichander, Pravin Mani, Vaishali Sri...</td>\n",
       "      <td>https://i.scdn.co/image/ab67616d0000b273be1b03...</td>\n",
       "      <td>AAO KILLELLE</td>\n",
       "      <td>https://open.spotify.com/track/4I38e6Dg52a2o2a...</td>\n",
       "      <td>Tamil</td>\n",
       "    </tr>\n",
       "  </tbody>\n",
       "</table>\n",
       "</div>"
      ],
      "text/plain": [
       "                 track_id                  track_name  \\\n",
       "0  2r0ROhr7pRN4MXDMT1fEmd  Leo Das Entry (From \"Leo\")   \n",
       "1  4I38e6Dg52a2o2a8i5Q5PW                AAO KILLELLE   \n",
       "\n",
       "                                         artist_name  \\\n",
       "0                                Anirudh Ravichander   \n",
       "1  Anirudh Ravichander, Pravin Mani, Vaishali Sri...   \n",
       "\n",
       "                                         artwork_url  \\\n",
       "0  https://i.scdn.co/image/ab67616d0000b273ce9c65...   \n",
       "1  https://i.scdn.co/image/ab67616d0000b273be1b03...   \n",
       "\n",
       "                   album_name  \\\n",
       "0  Leo Das Entry (From \"Leo\")   \n",
       "1                AAO KILLELLE   \n",
       "\n",
       "                                           track_url language  \n",
       "0  https://open.spotify.com/track/2r0ROhr7pRN4MXD...    Tamil  \n",
       "1  https://open.spotify.com/track/4I38e6Dg52a2o2a...    Tamil  "
      ]
     },
     "metadata": {},
     "output_type": "display_data"
    }
   ],
   "source": [
    "print('==================== Numerical Data Features ====================')\n",
    "spotify_df_num = spotify_df.select_dtypes(include = ['float64', 'int64'])\n",
    "display(spotify_df_num.head(n=2))\n",
    "\n",
    "print('\\n==================== Non-numerical Data Features ====================')\n",
    "display(spotify_df.select_dtypes(exclude = ['float64', 'int64']).head(n=2))"
   ]
  },
  {
   "cell_type": "code",
   "execution_count": 8,
   "metadata": {},
   "outputs": [
    {
     "data": {
      "image/png": "[encoded data removed]",
      "text/plain": [
       "<Figure size 1152x1440 with 16 Axes>"
      ]
     },
     "metadata": {
      "needs_background": "light"
     },
     "output_type": "display_data"
    }
   ],
   "source": [
    "spotify_df_num.hist(figsize=(16, 20), bins=50, xlabelsize=8, ylabelsize=8); # ; avoid having the matplotlib verbose informations"
   ]
  },
  {
   "cell_type": "code",
   "execution_count": 9,
   "metadata": {},
   "outputs": [],
   "source": [
    "#sns.pairplot(spotify_df, hue=\"mode\")"
   ]
  },
  {
   "cell_type": "code",
   "execution_count": 10,
   "metadata": {},
   "outputs": [
    {
     "data": {
      "image/png": "[encoded data removed]",
      "text/plain": [
       "<Figure size 720x720 with 2 Axes>"
      ]
     },
     "metadata": {
      "needs_background": "light"
     },
     "output_type": "display_data"
    }
   ],
   "source": [
    "# Check correlation among numerical data\n",
    "column_labels = spotify_df_num.columns\n",
    "\n",
    "corr = spotify_df_num.corr()\n",
    "fig = plt.figure(figsize=(10,10))\n",
    "ax = fig.add_subplot(111)\n",
    "cax = ax.matshow(corr, cmap='coolwarm',  vmin=-1, vmax=1)\n",
    "fig.colorbar(cax)\n",
    "\n",
    "ax.set_xticks(range(len(column_labels)), labels=column_labels,\n",
    "              rotation=90, ha=\"left\", rotation_mode=\"anchor\")\n",
    "ax.set_yticks(range(len(column_labels)), labels=column_labels)\n",
    "ax.set_xticklabels(column_labels)\n",
    "ax.set_yticklabels(column_labels)\n",
    "\n",
    "# Show value inside each grid (takes very long to iterate)\n",
    "#for (i, j), z in np.ndenumerate(spotify_df_num):\n",
    "#    ax.text(j, i, '{:0.1f}'.format(z), ha='center', va='center')\n",
    "    \n",
    "plt.show()"
   ]
  },
  {
   "cell_type": "code",
   "execution_count": 11,
   "metadata": {},
   "outputs": [
    {
     "name": "stdout",
     "output_type": "stream",
     "text": [
      "Top 10 smallest correlations: energy            acousticness       -0.615946\n",
      "acousticness      energy             -0.615946\n",
      "valence           instrumentalness   -0.412207\n",
      "instrumentalness  valence            -0.412207\n",
      "                  danceability       -0.400338\n",
      "danceability      instrumentalness   -0.400338\n",
      "energy            instrumentalness   -0.364904\n",
      "instrumentalness  energy             -0.364904\n",
      "danceability      acousticness       -0.343135\n",
      "acousticness      danceability       -0.343135\n",
      "                  valence            -0.229273\n",
      "dtype: float64\n",
      "Top 10 largest correlations excluding 1.0: speechiness     loudness          0.223820\n",
      "loudness        time_signature    0.229397\n",
      "time_signature  loudness          0.229397\n",
      "energy          liveness          0.233556\n",
      "liveness        energy            0.233556\n",
      "danceability    energy            0.481835\n",
      "energy          danceability      0.481835\n",
      "                valence           0.535278\n",
      "valence         energy            0.535278\n",
      "danceability    valence           0.640127\n",
      "valence         danceability      0.640127\n",
      "dtype: float64\n"
     ]
    }
   ],
   "source": [
    "asc_corr = corr.unstack().sort_values(ascending=True)\n",
    "\n",
    "# Display top 10 smallest & largest correlations\n",
    "print(f'Top 10 smallest correlations: {asc_corr[:11]}')\n",
    "print(f'Top 10 largest correlations excluding 1.0: {asc_corr[-len(column_labels)-11:-len(column_labels)]}') # 15 entries with 1.0"
   ]
  },
  {
   "cell_type": "code",
   "execution_count": 12,
   "metadata": {},
   "outputs": [
    {
     "name": "stdout",
     "output_type": "stream",
     "text": [
      "VIF:\n",
      "year: 131.1123\n",
      "time_signature: 67.4149\n",
      "danceability: 23.2664\n",
      "tempo: 19.0401\n",
      "energy: 17.7994\n",
      "valence: 9.4119\n",
      "duration_ms: 5.8601\n",
      "acousticness: 4.3552\n",
      "key: 3.1453\n",
      "liveness: 2.5388\n",
      "mode: 2.4921\n",
      "popularity: 1.7752\n",
      "speechiness: 1.7738\n",
      "instrumentalness: 1.7301\n",
      "loudness: 1.3475\n",
      "===================================================\n",
      "Features with significant collinearity:\n",
      "['year', 'time_signature', 'danceability', 'tempo', 'energy']\n"
     ]
    }
   ],
   "source": [
    "# VIF\n",
    "VIF = [variance_inflation_factor(spotify_df_num.values, i) for i in range(spotify_df_num.shape[1])]\n",
    "VIF = zip(spotify_df_num.columns, VIF)\n",
    "collinear_feat = []\n",
    "\n",
    "# Significant collinearity for features with VIF > 10\n",
    "print('VIF:')\n",
    "for k, v in sorted(VIF, key=lambda x: x[1], reverse=True):\n",
    "    if v >= 10:\n",
    "        collinear_feat.append(k)\n",
    "    print(f'{k}: {v:0.4f}')\n",
    "    \n",
    "print('===================================================')\n",
    "print('Features with significant collinearity:')\n",
    "print(collinear_feat)"
   ]
  },
  {
   "cell_type": "code",
   "execution_count": 13,
   "metadata": {},
   "outputs": [],
   "source": [
    "# Remove linearly dependent features\n",
    "#spotify_df.drop(collinear_feat, axis=1, inplace=True)\n",
    "#spotify_df.shape"
   ]
  },
  {
   "cell_type": "markdown",
   "metadata": {},
   "source": [
    "## Reinforcement Learning-based Model"
   ]
  },
  {
   "cell_type": "code",
   "execution_count": 14,
   "metadata": {},
   "outputs": [],
   "source": [
    "# Select random songs with required features\n",
    "spotify_df = spotify_df.dropna(subset=[\"track_name\",   # drop entire rows with NaN/NA in any of these columns\n",
    "                                       \"artist_name\", \"duration_ms\", \"popularity\", \"tempo\"])\n",
    "selected = spotify_df.sort_values(\"popularity\", ascending=False).head(10).sample(10, random_state=6740)\n",
    "\n",
    "# Choosing top 10 sorted by popularity may be biased, but a small sample from a predictable set is chosen for simple demonstration\n",
    "\n",
    "# Q-table initialization\n",
    "Q: Dict[Tuple, Dict[int, float]] = defaultdict(\n",
    "    lambda: {action: random.uniform(0, 0.05) for action in songs.keys()}\n",
    ")\n",
    "episode_rewards = []"
   ]
  },
  {
   "cell_type": "code",
   "execution_count": 15,
   "metadata": {},
   "outputs": [],
   "source": [
    "# Enhanced song representation with more features and better feature engineering\n",
    "songs = {\n",
    "    i: {\n",
    "        \"name\": selected.iloc[i][\"track_name\"],\n",
    "        \"BPM\": selected.iloc[i][\"tempo\"],\n",
    "        \"genre\": selected.iloc[i][\"track_genre\"] if \"track_genre\" in selected.columns else \"unknown\",\n",
    "        \"artist\": selected.iloc[i][\"artist_name\"],\n",
    "        \"duration\": selected.iloc[i][\"duration_ms\"] / 60000,  # convert ms to minutes\n",
    "        \"popularity\": selected.iloc[i][\"popularity\"] / 100,  # normalized popularity\n",
    "        # Feature engineering: adding more song features if available\n",
    "        \"energy\": selected.iloc[i][\"energy\"] if \"energy\" in selected.columns else 0.5,\n",
    "        \"danceability\": selected.iloc[i][\"danceability\"] if \"danceability\" in selected.columns else 0.5,\n",
    "        \"valence\": selected.iloc[i][\"valence\"] if \"valence\" in selected.columns else 0.5,\n",
    "        \"acousticness\": selected.iloc[i][\"acousticness\"] if \"acousticness\" in selected.columns else 0.5,\n",
    "        \"instrumentalness\": selected.iloc[i][\"instrumentalness\"] if \"instrumentalness\" in selected.columns else 0.5,\n",
    "        \"loudness\": selected.iloc[i][\"loudness\"] / -60 if \"loudness\" in selected.columns else 0.5,  # Normalized loudness\n",
    "        \"key\": selected.iloc[i][\"key\"] / 11 if \"key\" in selected.columns else 0.5,  # Normalized key\n",
    "        \"mode\": selected.iloc[i][\"mode\"] if \"mode\" in selected.columns else 0.5,  # Major/minor mode\n",
    "        \"speechiness\": selected.iloc[i][\"speechiness\"] if \"speechiness\" in selected.columns else 0.3,\n",
    "        \"liveness\": selected.iloc[i][\"liveness\"] if \"liveness\" in selected.columns else 0.4,\n",
    "    }\n",
    "    for i in range(len(selected))\n",
    "}"
   ]
  },
  {
   "cell_type": "code",
   "execution_count": 16,
   "metadata": {},
   "outputs": [],
   "source": [
    "# Improved state representation with song feature summaries\n",
    "def get_state(recent_songs: List[int], user_profile=None) -> Tuple:\n",
    "    \"\"\"Enhanced state representation with song features and user profile\n",
    "        Returns state as a tuple: (\n",
    "                                    ((sequence of recent songs), (avg_energy, avg_tempo)),\n",
    "                                    user_profile\n",
    "                                  )\n",
    "    \"\"\"\n",
    "    # Basic sequence of songs\n",
    "    song_sequence = tuple(recent_songs[-window_size:])\n",
    "    \n",
    "    # Compute aggregate features from recent songs to add context\n",
    "    if len(recent_songs) > 0:\n",
    "        avg_energy = np.mean([songs[s][\"energy\"] for s in recent_songs[-window_size:]])\n",
    "        avg_tempo = np.mean([songs[s][\"BPM\"] for s in recent_songs[-window_size:]])\n",
    "        context = (round(avg_energy, 2), round(avg_tempo/50, 2))\n",
    "        \n",
    "        # Include context in state representation\n",
    "        song_sequence = (*song_sequence, *context)\n",
    "    \n",
    "    # If we have a user profile, include it in the state\n",
    "    if user_profile:\n",
    "        return (song_sequence, user_profile)\n",
    "    \n",
    "    return song_sequence   \n",
    "\n",
    "# Improved reward function with more nuanced genre and artist continuity rewards\n",
    "def get_reward(song_id: int, duration_listened: float, previous_song_id=None) -> float:\n",
    "    base_reward = 0.0\n",
    "    \n",
    "    # Base reward based on listening duration with smoother scaling\n",
    "    listen_ratio = duration_listened / songs[song_id][\"duration\"]\n",
    "    \n",
    "    if listen_ratio >= min_listen_duration:\n",
    "        # Smooth reward scaling based on listen duration\n",
    "        base_reward = 0.5 + 0.5 * min(1, (listen_ratio - min_listen_duration) / (1 - min_listen_duration))\n",
    "    elif listen_ratio <= max_skip_duration:\n",
    "        # Penalize skips with smooth negative scaling\n",
    "        base_reward = -1.0 + listen_ratio / max_skip_duration\n",
    "    else:\n",
    "        # Neutral zone gets a small positive reward\n",
    "        base_reward = 0.2 * (listen_ratio - max_skip_duration) / (min_listen_duration - max_skip_duration)\n",
    "    \n",
    "    # Additional rewards for continuity (if previous song exists)\n",
    "    continuity_reward = 0.0\n",
    "    if previous_song_id is not None:\n",
    "        # Genre continuity reward\n",
    "        if songs[song_id][\"genre\"] == songs[previous_song_id][\"genre\"]:\n",
    "            continuity_reward += 0.25\n",
    "        \n",
    "        # Artist continuity reward (if user likes to listen to the same artist consecutively)\n",
    "        if songs[song_id][\"artist\"] == songs[previous_song_id][\"artist\"]:\n",
    "            continuity_reward += 0.15\n",
    "        \n",
    "        # BPM/tempo similarity reward (reward songs with similar tempo)\n",
    "        bpm_diff = abs(songs[song_id][\"BPM\"] - songs[previous_song_id][\"BPM\"])\n",
    "        if bpm_diff < 10:  # Small BPM difference\n",
    "            continuity_reward += 0.15\n",
    "        elif bpm_diff < 20:  # Moderate BPM difference\n",
    "            continuity_reward += 0.05\n",
    "            \n",
    "        ### Instead of arbitrary values, using 1 or 1/2 standard deviation could be a good diff\n",
    "        # Mood continuity (valence similarity)\n",
    "        valence_diff = abs(songs[song_id][\"valence\"] - songs[previous_song_id][\"valence\"])\n",
    "        if valence_diff < 0.2:\n",
    "            continuity_reward += 0.15\n",
    "        \n",
    "        # Energy continuity\n",
    "        energy_diff = abs(songs[song_id][\"energy\"] - songs[previous_song_id][\"energy\"])\n",
    "        if energy_diff < 0.2:\n",
    "            continuity_reward += 0.1\n",
    "            \n",
    "        # Consider more features, some relying on standard deviation as threshold\n",
    "        # Instrumentalness continuity\n",
    "        inst_diff = abs(songs[song_id][\"instrumentalness\"] - songs[previous_song_id][\"instrumentalness\"])\n",
    "        if inst_diff < 0.2:\n",
    "            continuity_reward += 0.1\n",
    "            \n",
    "        # Speechiness continuity\n",
    "        speech_diff = abs(songs[song_id][\"speechiness\"] - songs[previous_song_id][\"speechiness\"])\n",
    "        if speech_diff < 0.2:\n",
    "            continuity_reward += 0.12\n",
    "            \n",
    "        # Liveness continuity\n",
    "        liveness_diff = abs(songs[song_id][\"liveness\"] - songs[previous_song_id][\"liveness\"])\n",
    "        if liveness_diff < spotify_desc['liveness']['std']:\n",
    "            continuity_reward += 0.12\n",
    "            \n",
    "        # Loudness continuity\n",
    "        loudness_diff = abs(songs[song_id][\"loudness\"] - songs[previous_song_id][\"loudness\"])\n",
    "        if loudness_diff < spotify_desc['loudness']['std']:\n",
    "            continuity_reward += 0.12\n",
    "            \n",
    "        # Acousticness continuity\n",
    "        acoustic_diff = abs(songs[song_id][\"acousticness\"] - songs[previous_song_id][\"acousticness\"])\n",
    "        if acoustic_diff < spotify_desc['acousticness']['std']:\n",
    "            continuity_reward += 0.12\n",
    "    \n",
    "    return base_reward + continuity_reward"
   ]
  },
  {
   "cell_type": "code",
   "execution_count": 17,
   "metadata": {},
   "outputs": [],
   "source": [
    "# Training with decaying epsilon and improved exploration strategy\n",
    "epsilon = epsilon_start   # 0.5, Starting exploration rate\n",
    "for episode in range(num_episodes):\n",
    "    recent_songs = random.sample(list(songs.keys()), window_size)   # 4 songs in window\n",
    "    state = get_state(recent_songs)   # state = (((sequence of recent songs), (avg_energy, avg_tempo)), user_profile)\n",
    "    total_reward = 0.0\n",
    "\n",
    "    for step in range(10):\n",
    "        # Epsilon-greedy action selection with decaying epsilon\n",
    "        if random.uniform(0, 1) < epsilon:\n",
    "            # Improved exploration strategy - biased toward high energy/popularity songs initially\n",
    "            if episode < num_episodes * 0.3:  # First 30% of episodes\n",
    "                action_scores = {s: songs[s][\"energy\"] * songs[s][\"popularity\"] for s in songs.keys()}\n",
    "                action = random.choices(\n",
    "                    list(action_scores.keys()), \n",
    "                    weights=list(action_scores.values()), \n",
    "                    k=1\n",
    "                )[0]\n",
    "            else:\n",
    "                action = random.choice(list(songs.keys()))\n",
    "        else:\n",
    "            action = max(Q[state].items(), key=lambda x: x[1])[0]\n",
    "\n",
    "        # Simulate user listening with more dynamic behavior\n",
    "        listen_prob = 0.7 + 0.3 * songs[action][\"popularity\"]  # Popular songs more likely to be heard longer\n",
    "        duration_listened = random.betavariate(listen_prob*2, 2-listen_prob) * songs[action][\"duration\"]\n",
    "        \n",
    "        # Get previous song for continuity rewards\n",
    "        previous_song = recent_songs[-1] if recent_songs else None\n",
    "        reward = get_reward(action, duration_listened, previous_song)\n",
    "        total_reward += reward\n",
    "\n",
    "        # Transition to next state\n",
    "        next_recent_songs = recent_songs[1:] + [action]\n",
    "        next_state = get_state(next_recent_songs)\n",
    "        \n",
    "        # Q-learning update with double Q-learning logic to prevent overestimation\n",
    "        best_next_action = max(Q[next_state].items(), key=lambda x: x[1])[0] if next_state in Q else 0\n",
    "        best_next_q = Q[next_state][best_next_action] if next_state in Q else 0\n",
    "        \n",
    "        # Update Q-value with dynamic learning rate that decreases for stable states\n",
    "        state_visits = len(Q[state])\n",
    "        adaptive_alpha = alpha / (1 + 0.1 * state_visits)  # Adaptive learning rate\n",
    "        Q[state][action] += adaptive_alpha * (reward + gamma * best_next_q - Q[state][action])\n",
    "\n",
    "        state = next_state\n",
    "        recent_songs = next_recent_songs\n",
    "\n",
    "    # Decay epsilon with a floor to maintain some exploration\n",
    "    epsilon = max(epsilon_end, epsilon * epsilon_decay)\n",
    "    episode_rewards.append(total_reward)"
   ]
  },
  {
   "cell_type": "code",
   "execution_count": 18,
   "metadata": {},
   "outputs": [],
   "source": [
    "# Improved evaluation\n",
    "def evaluate_rl(Q: Dict[Tuple, Dict[int, float]], num_test_episodes=100):\n",
    "    correct_recommendations = 0\n",
    "    total_recommendations = 0\n",
    "    rewards = []\n",
    "    y_true = []\n",
    "    y_pred = []\n",
    "    confidence_scores = []\n",
    "\n",
    "    for _ in range(num_test_episodes):\n",
    "        recent_songs = random.sample(list(songs.keys()), window_size)\n",
    "        state = get_state(recent_songs)\n",
    "        episode_reward = 0.0\n",
    "\n",
    "        for _ in range(10):\n",
    "            # Get actions and their Q-values\n",
    "            q_values = list(Q[state].items())\n",
    "            \n",
    "            # Sort actions by Q-value\n",
    "            sorted_actions = sorted(q_values, key=lambda x: x[1], reverse=True)\n",
    "            action = sorted_actions[0][0]  # Best action\n",
    "            \n",
    "            # Calculate confidence score using softmax\n",
    "            q_values_array = np.array([q[1] for q in q_values])\n",
    "            # Apply temperature scaling to softmax for better confidence calibration\n",
    "            temperature = 0.5\n",
    "            confidence = np.exp(q_values_array/temperature) / np.sum(np.exp(q_values_array/temperature))\n",
    "            action_confidence = confidence[list(Q[state].keys()).index(action)]\n",
    "            \n",
    "            # Simulate user listening\n",
    "            duration_listened = random.uniform(0, songs[action][\"duration\"])\n",
    "            previous_song = recent_songs[-1] if recent_songs else None\n",
    "            reward = get_reward(action, duration_listened, previous_song)\n",
    "            episode_reward += reward\n",
    "\n",
    "            # Only predict 1 if the model is confident enough\n",
    "            prediction = 1 if action_confidence > 0.55 else 0\n",
    "            actual = 1 if reward > 0 else 0\n",
    "            \n",
    "            y_true.append(actual)\n",
    "            y_pred.append(prediction)\n",
    "            confidence_scores.append(action_confidence)\n",
    "\n",
    "            # Track if recommendation was correct\n",
    "            if reward > 0 and prediction == 1:\n",
    "                correct_recommendations += 1\n",
    "            if prediction == 1:  # Count only when we actually recommend\n",
    "                total_recommendations += 1\n",
    "\n",
    "            recent_songs = recent_songs[1:] + [action]\n",
    "            state = get_state(recent_songs)\n",
    "\n",
    "        rewards.append(episode_reward)\n",
    "\n",
    "    # Avoid division by zero\n",
    "    if total_recommendations == 0:\n",
    "        accuracy = 0\n",
    "    else:\n",
    "        accuracy = correct_recommendations / total_recommendations\n",
    "    \n",
    "    precision = precision_score(y_true, y_pred, zero_division=0)\n",
    "    f1 = f1_score(y_true, y_pred, zero_division=0)\n",
    "    acc = accuracy_score(y_true, y_pred)\n",
    "\n",
    "    return {\n",
    "        \"RL Accuracy\": accuracy,\n",
    "        \"RL Score Accuracy\": acc,\n",
    "        \"RL Avg Reward\": np.mean(rewards),\n",
    "        \"RL Precision\": precision,\n",
    "        \"RL F1\": f1,\n",
    "        \"RL Avg Confidence\": np.mean(confidence_scores)\n",
    "    }"
   ]
  },
  {
   "cell_type": "code",
   "execution_count": 19,
   "metadata": {},
   "outputs": [
    {
     "data": {
      "text/plain": [
       "{'RL Accuracy': 0.9910485933503836,\n",
       " 'RL Score Accuracy': 0.775,\n",
       " 'RL Avg Reward': 11.570054679381064,\n",
       " 'RL Precision': 0.9910485933503836,\n",
       " 'RL F1': 0.8732394366197184,\n",
       " 'RL Avg Confidence': 0.779563291431188}"
      ]
     },
     "execution_count": 19,
     "metadata": {},
     "output_type": "execute_result"
    }
   ],
   "source": [
    "rl_metrics = evaluate_rl(Q)\n",
    "rl_metrics"
   ]
  },
  {
   "cell_type": "code",
   "execution_count": 24,
   "metadata": {},
   "outputs": [
    {
     "name": "stdout",
     "output_type": "stream",
     "text": [
      "=== RL Music Recommender Simulation ===\n",
      "Type 'listen' to hear the song, 'skip' to reject it, 'soso' to skip after about halfway, or 'quit' to exit.\n",
      "\n",
      "\n",
      "Recommended: Blinding Lights by The Weeknd\n",
      "Features: BPM=171.005, Energy=0.73, Popularity=0.91\n"
     ]
    },
    {
     "name": "stdin",
     "output_type": "stream",
     "text": [
      "Seconds listened (i.e. 2 or 120.5) or '-1' to exit:  125\n"
     ]
    },
    {
     "name": "stdout",
     "output_type": "stream",
     "text": [
      "Song complete! Reward: 0.98\n",
      "\n",
      "Recommended: Locked out of Heaven by Bruno Mars\n",
      "Features: BPM=143.994, Energy=0.70, Popularity=0.88\n"
     ]
    },
    {
     "name": "stdin",
     "output_type": "stream",
     "text": [
      "Seconds listened (i.e. 2 or 120.5) or '-1' to exit:  0\n"
     ]
    },
    {
     "name": "stdout",
     "output_type": "stream",
     "text": [
      "Song complete! Reward: -0.19\n",
      "\n",
      "Recommended: Big Dawgs by Hanumankind, Kalmi\n",
      "Features: BPM=180.098, Energy=0.74, Popularity=0.93\n"
     ]
    },
    {
     "name": "stdin",
     "output_type": "stream",
     "text": [
      "Seconds listened (i.e. 2 or 120.5) or '-1' to exit:  125\n"
     ]
    },
    {
     "name": "stdout",
     "output_type": "stream",
     "text": [
      "Song complete! Reward: 1.11\n",
      "\n",
      "Recommended: Big Dawgs by Hanumankind, Kalmi\n",
      "Features: BPM=180.098, Energy=0.74, Popularity=0.93\n"
     ]
    },
    {
     "name": "stdin",
     "output_type": "stream",
     "text": [
      "Seconds listened (i.e. 2 or 120.5) or '-1' to exit:  0\n"
     ]
    },
    {
     "name": "stdout",
     "output_type": "stream",
     "text": [
      "Song complete! Reward: 0.38\n",
      "\n",
      "Recommended: Anti-Hero by Taylor Swift\n",
      "Features: BPM=97.008, Energy=0.64, Popularity=0.89\n"
     ]
    },
    {
     "name": "stdin",
     "output_type": "stream",
     "text": [
      "Seconds listened (i.e. 2 or 120.5) or '-1' to exit:  125\n"
     ]
    },
    {
     "name": "stdout",
     "output_type": "stream",
     "text": [
      "Song complete! Reward: 0.98\n",
      "\n",
      "Recommended: cardigan by Taylor Swift\n",
      "Features: BPM=130.033, Energy=0.58, Popularity=0.89\n"
     ]
    },
    {
     "name": "stdin",
     "output_type": "stream",
     "text": [
      "Seconds listened (i.e. 2 or 120.5) or '-1' to exit:  120\n"
     ]
    },
    {
     "name": "stdout",
     "output_type": "stream",
     "text": [
      "Song complete! Reward: 1.23\n",
      "\n",
      "Recommended: Blinding Lights by The Weeknd\n",
      "Features: BPM=171.005, Energy=0.73, Popularity=0.91\n"
     ]
    },
    {
     "name": "stdin",
     "output_type": "stream",
     "text": [
      "Seconds listened (i.e. 2 or 120.5) or '-1' to exit:  60\n"
     ]
    },
    {
     "name": "stdout",
     "output_type": "stream",
     "text": [
      "Song complete! Reward: 0.85\n",
      "\n",
      "Recommended: Blinding Lights by The Weeknd\n",
      "Features: BPM=171.005, Energy=0.73, Popularity=0.91\n"
     ]
    },
    {
     "name": "stdin",
     "output_type": "stream",
     "text": [
      "Seconds listened (i.e. 2 or 120.5) or '-1' to exit:  0\n"
     ]
    },
    {
     "name": "stdout",
     "output_type": "stream",
     "text": [
      "Song complete! Reward: 0.38\n",
      "\n",
      "Recommended: Bye Bye Bye - From Deadpool and Wolverine Soundtrack by *NSYNC\n",
      "Features: BPM=172.638, Energy=0.93, Popularity=0.90\n"
     ]
    },
    {
     "name": "stdin",
     "output_type": "stream",
     "text": [
      "Seconds listened (i.e. 2 or 120.5) or '-1' to exit:  180\n"
     ]
    },
    {
     "name": "stdout",
     "output_type": "stream",
     "text": [
      "Song complete! Reward: 1.91\n",
      "\n",
      "Recommended: Blinding Lights by The Weeknd\n",
      "Features: BPM=171.005, Energy=0.73, Popularity=0.91\n"
     ]
    },
    {
     "name": "stdin",
     "output_type": "stream",
     "text": [
      "Seconds listened (i.e. 2 or 120.5) or '-1' to exit:  0\n"
     ]
    },
    {
     "name": "stdout",
     "output_type": "stream",
     "text": [
      "Song complete! Reward: 0.08\n",
      "\n",
      "Recommended: Big Dawgs by Hanumankind, Kalmi\n",
      "Features: BPM=180.098, Energy=0.74, Popularity=0.93\n"
     ]
    },
    {
     "name": "stdin",
     "output_type": "stream",
     "text": [
      "Seconds listened (i.e. 2 or 120.5) or '-1' to exit:  0\n"
     ]
    },
    {
     "name": "stdout",
     "output_type": "stream",
     "text": [
      "Song complete! Reward: 0.11\n",
      "\n",
      "Recommended: Blinding Lights by The Weeknd\n",
      "Features: BPM=171.005, Energy=0.73, Popularity=0.91\n"
     ]
    },
    {
     "name": "stdin",
     "output_type": "stream",
     "text": [
      "Seconds listened (i.e. 2 or 120.5) or '-1' to exit:  0\n"
     ]
    },
    {
     "name": "stdout",
     "output_type": "stream",
     "text": [
      "Song complete! Reward: 0.11\n",
      "\n",
      "Recommended: Big Dawgs by Hanumankind, Kalmi\n",
      "Features: BPM=180.098, Energy=0.74, Popularity=0.93\n"
     ]
    },
    {
     "name": "stdin",
     "output_type": "stream",
     "text": [
      "Seconds listened (i.e. 2 or 120.5) or '-1' to exit:  0\n"
     ]
    },
    {
     "name": "stdout",
     "output_type": "stream",
     "text": [
      "Song complete! Reward: 0.11\n",
      "\n",
      "Recommended: Starboy by The Weeknd, Daft Punk\n",
      "Features: BPM=186.003, Energy=0.59, Popularity=0.91\n"
     ]
    },
    {
     "name": "stdin",
     "output_type": "stream",
     "text": [
      "Seconds listened (i.e. 2 or 120.5) or '-1' to exit:  0\n"
     ]
    },
    {
     "name": "stdout",
     "output_type": "stream",
     "text": [
      "Song complete! Reward: -0.04\n",
      "\n",
      "Recommended: Anti-Hero by Taylor Swift\n",
      "Features: BPM=97.008, Energy=0.64, Popularity=0.89\n"
     ]
    },
    {
     "name": "stdin",
     "output_type": "stream",
     "text": [
      "Seconds listened (i.e. 2 or 120.5) or '-1' to exit:  0\n"
     ]
    },
    {
     "name": "stdout",
     "output_type": "stream",
     "text": [
      "Song complete! Reward: -0.04\n",
      "\n",
      "Recommended: Is It Over Now? (Taylor's Version) (From The Vault) by Taylor Swift\n",
      "Features: BPM=100.012, Energy=0.66, Popularity=0.88\n"
     ]
    },
    {
     "name": "stdin",
     "output_type": "stream",
     "text": [
      "Seconds listened (i.e. 2 or 120.5) or '-1' to exit:  100\n"
     ]
    },
    {
     "name": "stdout",
     "output_type": "stream",
     "text": [
      "Song complete! Reward: 1.32\n",
      "\n",
      "Recommended: cardigan by Taylor Swift\n",
      "Features: BPM=130.033, Energy=0.58, Popularity=0.89\n"
     ]
    },
    {
     "name": "stdin",
     "output_type": "stream",
     "text": [
      "Seconds listened (i.e. 2 or 120.5) or '-1' to exit:  0\n"
     ]
    },
    {
     "name": "stdout",
     "output_type": "stream",
     "text": [
      "Song complete! Reward: -0.04\n",
      "\n",
      "Recommended: Is It Over Now? (Taylor's Version) (From The Vault) by Taylor Swift\n",
      "Features: BPM=100.012, Energy=0.66, Popularity=0.88\n"
     ]
    },
    {
     "name": "stdin",
     "output_type": "stream",
     "text": [
      "Seconds listened (i.e. 2 or 120.5) or '-1' to exit:  -1\n"
     ]
    },
    {
     "name": "stdout",
     "output_type": "stream",
     "text": [
      "\n",
      "Simulation ended.\n",
      "Song & reward history:\n",
      "Blinding Lights  -  0.9800\n",
      "Locked out of Heaven  -  -0.1900\n",
      "Big Dawgs  -  1.1122\n",
      "Big Dawgs  -  0.3800\n",
      "Anti-Hero  -  0.9791\n",
      "cardigan  -  1.2304\n",
      "Blinding Lights  -  0.8500\n",
      "Blinding Lights  -  0.3800\n",
      "Bye Bye Bye - From Deadpool and Wolverine Soundtrack  -  1.9103\n",
      "Blinding Lights  -  0.0800\n",
      "Big Dawgs  -  0.1100\n",
      "Blinding Lights  -  0.1100\n",
      "Big Dawgs  -  0.1100\n",
      "Starboy  -  -0.0400\n",
      "Anti-Hero  -  -0.0400\n",
      "Is It Over Now? (Taylor's Version) (From The Vault)  -  1.3243\n",
      "cardigan  -  -0.0400\n",
      "Overall performance (rewards/max_rewards):\n",
      "0.2669\n"
     ]
    }
   ],
   "source": [
    "# RL simulation & evaluation\n",
    "\n",
    "def simulate_user_interaction(Q: Dict[Tuple, Dict[int, float]], songs: Dict[int, Dict], window_size: int = 4):\n",
    "    \"\"\"Interactive simulation where you (the user) listen/skip songs, and the RL model responds.\"\"\"\n",
    "    # Initialize recent songs with random history\n",
    "    rewards_history = []\n",
    "    max_rewards_history = []\n",
    "    songs_history = []\n",
    "    states_history = []\n",
    "    recent_songs: List[int] = random.sample(list(songs.keys()), window_size)\n",
    "    state = get_state(recent_songs)\n",
    "    \n",
    "    print(\"=== RL Music Recommender Simulation ===\")\n",
    "    print(\"Type 'listen' to hear the song, 'skip' to reject it, 'soso' to skip after about halfway, or 'quit' to exit.\\n\")\n",
    "    \n",
    "    while True:\n",
    "        # Get the RL model's recommended action (song)\n",
    "        if state in Q:\n",
    "            action = max(Q[state].items(), key=lambda x: x[1])[0]  # Greedy policy\n",
    "        else:\n",
    "            action = random.choice(list(songs.keys()))  # Fallback for unseen states\n",
    "        \n",
    "        song = songs[action]\n",
    "        songs_history.append(song['name'])   # keep track of recommended songs\n",
    "        print(f\"\\nRecommended: {song['name']} by {song['artist']}\")\n",
    "        print(f\"Features: BPM={song['BPM']}, Energy={song['energy']:.2f}, Popularity={song['popularity']:.2f}\")\n",
    "        \n",
    "        # Simulate user feedback\n",
    "        while True:\n",
    "            feedback = input(\"Seconds listened (i.e. 2 or 120.5) or '-1' to exit: \")#.strip().lower()\n",
    "            try:\n",
    "                feedback = float(feedback)/60   # convert to minutes\n",
    "                break\n",
    "            except ValueError as e:\n",
    "                print(f\"Invalid input. Try again.\")\n",
    "        if feedback < 0:\n",
    "            print(\"\\nSimulation ended.\")\n",
    "            print(\"Song & reward history:\")\n",
    "            for s, r in zip(songs_history, rewards_history):\n",
    "                print(f\"{s}  -  {r:.4f}\")\n",
    "            # Overall performance measured by actual score / maximum possible score\n",
    "            print(\"Overall performance (rewards/max_rewards):\")\n",
    "            print(f\"{sum(rewards_history) / sum(max_rewards_history):.4f}\")\n",
    "            break\n",
    "        \n",
    "        # Update state based on feedback\n",
    "        \"\"\"\n",
    "        if feedback == \"listen\":\n",
    "            duration_listened = song[\"duration\"] * 0.7  # Simulate listening to 70% of the song\n",
    "            reward = get_reward(action, duration_listened, recent_songs[-1] if recent_songs else None)\n",
    "            print(f\"You listened! Reward: {reward:.2f}\")\n",
    "        elif feedback == \"soso\":\n",
    "            duration_listened = song[\"duration\"] * 0.45  # Simulate listening to about 45% of the song\n",
    "            reward = get_reward(action, duration_listened, recent_songs[-1] if recent_songs else None)\n",
    "            print(f\"You listened! Reward: {reward:.2f}\")\n",
    "        else:\n",
    "            duration_listened = song[\"duration\"] * 0.15  # Simulate skipping after 15%\n",
    "            reward = get_reward(action, duration_listened, recent_songs[-1] if recent_songs else None)\n",
    "            print(f\"You skipped. Reward: {reward:.2f}\")\n",
    "        \"\"\"\n",
    "        reward = get_reward(action, feedback, recent_songs[-1] if recent_songs else None)\n",
    "        rewards_history.append(reward)\n",
    "        max_rewards_history.append(get_reward(action, songs[action]['duration'], recent_songs[-1] if recent_songs else None))\n",
    "        print(f\"Song complete! Reward: {reward:.2f}\")\n",
    "        \n",
    "        # Update recent songs and state\n",
    "        recent_songs = recent_songs[1:] + [action]\n",
    "        state = get_state(recent_songs)\n",
    "    \n",
    "    \n",
    "    \n",
    "\n",
    "# Example usage\n",
    "if __name__ == \"__main__\":\n",
    "    simulate_user_interaction(Q, songs, window_size=4)"
   ]
  },
  {
   "cell_type": "code",
   "execution_count": 26,
   "metadata": {},
   "outputs": [
    {
     "name": "stdout",
     "output_type": "stream",
     "text": [
      "Total time in seconds for each song:\n",
      "Bye Bye Bye - From Deadpool and Wolverine Soundtrack - 200.39999999999998\n",
      "Blinding Lights - 200.04\n",
      "EASY - 164.54500000000002\n",
      "august - 261.923\n",
      "Big Dawgs - 190.667\n",
      "Anti-Hero - 200.69\n",
      "Is It Over Now? (Taylor's Version) (From The Vault) - 229.478\n",
      "Starboy - 230.453\n",
      "cardigan - 239.56\n",
      "Locked out of Heaven - 233.478\n"
     ]
    }
   ],
   "source": [
    "print(\"Total time in seconds for each song:\")\n",
    "for s in songs.values():\n",
    "    print(f\"{s['name']} - {s['duration']*60}\")"
   ]
  },
  {
   "cell_type": "code",
   "execution_count": null,
   "metadata": {},
   "outputs": [],
   "source": []
  }
 ],
 "metadata": {
  "kernelspec": {
   "display_name": "Python 3 (ipykernel)",
   "language": "python",
   "name": "python3"
  },
  "language_info": {
   "codemirror_mode": {
    "name": "ipython",
    "version": 3
   },
   "file_extension": ".py",
   "mimetype": "text/x-python",
   "name": "python",
   "nbconvert_exporter": "python",
   "pygments_lexer": "ipython3",
   "version": "3.10.12"
  }
 },
 "nbformat": 4,
 "nbformat_minor": 4
}
